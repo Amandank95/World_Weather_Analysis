{
 "cells": [
  {
   "cell_type": "code",
   "execution_count": 1,
   "id": "06ebe457-9ffe-4144-9e8a-f9666bdf0dcc",
   "metadata": {},
   "outputs": [],
   "source": [
    "# import the random module\n",
    "import random"
   ]
  },
  {
   "cell_type": "code",
   "execution_count": 2,
   "id": "63da9e8f-8d73-40fb-9bcb-d2a1799d9a90",
   "metadata": {},
   "outputs": [
    {
     "data": {
      "text/plain": [
       "0.2133927216173157"
      ]
     },
     "execution_count": 2,
     "metadata": {},
     "output_type": "execute_result"
    }
   ],
   "source": [
    "random.random()"
   ]
  },
  {
   "cell_type": "code",
   "execution_count": 3,
   "id": "44b68762-f744-4e1b-a54f-b416c2e4f4c3",
   "metadata": {},
   "outputs": [
    {
     "data": {
      "text/plain": [
       "43"
      ]
     },
     "execution_count": 3,
     "metadata": {},
     "output_type": "execute_result"
    }
   ],
   "source": [
    "random.randint(-90, 90)"
   ]
  },
  {
   "cell_type": "code",
   "execution_count": 4,
   "id": "47fc084e-3e10-4ffd-b489-8e9eea6d62a7",
   "metadata": {},
   "outputs": [
    {
     "data": {
      "text/plain": [
       "0.8956197815419137"
      ]
     },
     "execution_count": 4,
     "metadata": {},
     "output_type": "execute_result"
    }
   ],
   "source": [
    "random.random()"
   ]
  },
  {
   "cell_type": "code",
   "execution_count": 5,
   "id": "a2cbed6d-3d5b-4380-89a9-a1be87ff53d1",
   "metadata": {},
   "outputs": [],
   "source": [
    "x = 1\n",
    "latitudes = []\n",
    "while x < 11:\n",
    "    random_lat = random.randint(-90, 89) + random.random()\n",
    "    latitudes.append(random_lat)\n",
    "    x += 1\n",
    "    "
   ]
  },
  {
   "cell_type": "code",
   "execution_count": 6,
   "id": "3988a127-6faf-47f6-86a6-60a6ef9b1083",
   "metadata": {},
   "outputs": [
    {
     "data": {
      "text/plain": [
       "[56.47044944908936,\n",
       " -7.806296919822964,\n",
       " 16.641847948269675,\n",
       " 14.073382474442028,\n",
       " -42.422471938607416,\n",
       " 31.47349581954571,\n",
       " 26.53577950600424,\n",
       " -1.2966057679458394,\n",
       " 37.74660327700733,\n",
       " 69.59097457086966]"
      ]
     },
     "execution_count": 6,
     "metadata": {},
     "output_type": "execute_result"
    }
   ],
   "source": [
    "latitudes"
   ]
  },
  {
   "cell_type": "code",
   "execution_count": 7,
   "id": "7fe9d041-a5a0-440d-80e4-0e1296af3596",
   "metadata": {},
   "outputs": [],
   "source": [
    "# Import the NumPy module.\n",
    "import numpy as np"
   ]
  },
  {
   "cell_type": "code",
   "execution_count": 8,
   "id": "54542ff8-e241-4365-b9d1-36e3b63ae3ad",
   "metadata": {},
   "outputs": [
    {
     "data": {
      "text/plain": [
       "-73.54057849443717"
      ]
     },
     "execution_count": 8,
     "metadata": {},
     "output_type": "execute_result"
    }
   ],
   "source": [
    " np.random.uniform(-90.000, 90.000)"
   ]
  },
  {
   "cell_type": "code",
   "execution_count": 9,
   "id": "7b9464a5-cbfa-4774-ada2-cf76da991c47",
   "metadata": {},
   "outputs": [
    {
     "data": {
      "text/plain": [
       "38.849641928239066"
      ]
     },
     "execution_count": 9,
     "metadata": {},
     "output_type": "execute_result"
    }
   ],
   "source": [
    "np.random.uniform(low=-90, high=90)"
   ]
  },
  {
   "cell_type": "code",
   "execution_count": 10,
   "id": "13a69919-4a52-4fa1-b02f-7ab2a266ca7e",
   "metadata": {},
   "outputs": [
    {
     "data": {
      "text/plain": [
       "array([ 83.80990186, -72.40913926,  27.36186617, -20.43754084,\n",
       "       -28.29241043,  27.41776683,  56.85098299,  87.85155566,\n",
       "       -66.19149648,  39.56499539, -81.51289988, -70.69157632,\n",
       "       -38.18797838, -20.30208242,   5.41632467, -32.87591567,\n",
       "       -20.63934381, -62.87631814,  50.99293023, -74.28595025,\n",
       "       -24.18457406,  34.91198254,  64.3342068 ,  86.02281203,\n",
       "        27.47624562,   9.75178615,  -6.00996381,  76.92718327,\n",
       "       -48.19607282, -77.57596988,  -1.09461894,  45.295267  ,\n",
       "        -7.0255552 ,  -2.71909049,  19.18616687, -15.77073021,\n",
       "        73.65991519, -86.54991287,  16.81124422,  28.40524978,\n",
       "        31.89735238, -31.68625315, -69.84929105,  45.72376196,\n",
       "       -84.26275595,  20.55736618,  27.74147676,  82.23927626,\n",
       "        22.21105649, -82.43186438])"
      ]
     },
     "execution_count": 10,
     "metadata": {},
     "output_type": "execute_result"
    }
   ],
   "source": [
    "np.random.uniform(-90.000, 90.000, size=50)"
   ]
  },
  {
   "cell_type": "code",
   "execution_count": 11,
   "id": "7f6793d6-22c8-4e67-a562-b5c43561ff0c",
   "metadata": {},
   "outputs": [],
   "source": [
    "# Import timeit.\n",
    "import timeit"
   ]
  },
  {
   "cell_type": "code",
   "execution_count": 12,
   "id": "1b6cc032-ec55-442b-a618-05d9e4082a71",
   "metadata": {},
   "outputs": [
    {
     "name": "stdout",
     "output_type": "stream",
     "text": [
      "26.8 µs ± 2.78 µs per loop (mean ± std. dev. of 7 runs, 10000 loops each)\n"
     ]
    }
   ],
   "source": [
    "%timeit np.random.uniform(-90.000, 90.000, size=1500)"
   ]
  },
  {
   "cell_type": "code",
   "execution_count": 13,
   "id": "9ea51496-84d1-4803-a763-9e2685d16976",
   "metadata": {},
   "outputs": [
    {
     "name": "stdout",
     "output_type": "stream",
     "text": [
      "3.91 ms ± 628 µs per loop (mean ± std. dev. of 7 runs, 100 loops each)\n"
     ]
    }
   ],
   "source": [
    "def latitudes(size):\n",
    "    latitudes = []\n",
    "    x = 0\n",
    "    while x < (size):\n",
    "        random_lat = random.randint(-90, 90) + random.random()\n",
    "        latitudes.append(random_lat)\n",
    "        x += 1\n",
    "    return latitudes\n",
    "# Call the function with 1500.\n",
    "%timeit latitudes(1500)"
   ]
  },
  {
   "cell_type": "code",
   "execution_count": 14,
   "id": "fa0a7ca8-756c-4744-bb2e-2ebe46ca8c63",
   "metadata": {},
   "outputs": [
    {
     "data": {
      "text/plain": [
       "-21"
      ]
     },
     "execution_count": 14,
     "metadata": {},
     "output_type": "execute_result"
    }
   ],
   "source": [
    "random.randrange(-90, 90, step=1)"
   ]
  },
  {
   "cell_type": "code",
   "execution_count": 15,
   "id": "639f3c71-dd28-4097-a932-2cfd5c5bd964",
   "metadata": {},
   "outputs": [
    {
     "data": {
      "text/plain": [
       "84"
      ]
     },
     "execution_count": 15,
     "metadata": {},
     "output_type": "execute_result"
    }
   ],
   "source": [
    "random.randrange(-90, 90, step=3)"
   ]
  },
  {
   "cell_type": "code",
   "execution_count": 16,
   "id": "9de4f4af-8bac-4d1a-bb98-3a46c7c567ab",
   "metadata": {},
   "outputs": [
    {
     "data": {
      "text/plain": [
       "-37.048088380079236"
      ]
     },
     "execution_count": 16,
     "metadata": {},
     "output_type": "execute_result"
    }
   ],
   "source": [
    "random.uniform(-90, 90)\n"
   ]
  },
  {
   "cell_type": "code",
   "execution_count": 17,
   "id": "c245ddcd-0bf3-4d5e-82e6-501d7b14cef9",
   "metadata": {},
   "outputs": [
    {
     "data": {
      "text/plain": [
       "56.962197152574646"
      ]
     },
     "execution_count": 17,
     "metadata": {},
     "output_type": "execute_result"
    }
   ],
   "source": [
    "np.random.uniform(-90.00, 90.00)\n"
   ]
  },
  {
   "cell_type": "code",
   "execution_count": 21,
   "id": "807e2373-5e3d-4431-9915-1a8f3e8c62a0",
   "metadata": {},
   "outputs": [],
   "source": [
    "x = 1\n",
    "latitudes = []\n",
    "while x < 11:\n",
    "    random_lat = random.randint(-90, 89) + random.random()\n",
    "    latitudes.append(random_lat)\n",
    "    x += 1"
   ]
  },
  {
   "cell_type": "code",
   "execution_count": 30,
   "id": "10c937a2-4606-43ad-a50b-bb71b6d1982e",
   "metadata": {},
   "outputs": [
    {
     "name": "stdout",
     "output_type": "stream",
     "text": [
      "[-68.23145784885567, 75.76081604600856, 2.7922885644881927, -59.21532490979892, 64.87814072600757, 4.57956155028305, -28.645163717725744, -79.58630681335283, -13.935572965269799, -49.3872178296855]\n"
     ]
    }
   ],
   "source": [
    "print(latitudes)\n"
   ]
  },
  {
   "cell_type": "code",
   "execution_count": 24,
   "id": "579dfb24-4961-4fc6-b1c0-1a922c1d1e73",
   "metadata": {},
   "outputs": [
    {
     "data": {
      "text/plain": [
       "9"
      ]
     },
     "execution_count": 24,
     "metadata": {},
     "output_type": "execute_result"
    }
   ],
   "source": [
    "random.randrange(-90, 90, step=3)"
   ]
  },
  {
   "cell_type": "code",
   "execution_count": 25,
   "id": "c084c146-fd55-4443-a52a-48cbe98db7cb",
   "metadata": {},
   "outputs": [
    {
     "data": {
      "text/plain": [
       "-67.69784103441928"
      ]
     },
     "execution_count": 25,
     "metadata": {},
     "output_type": "execute_result"
    }
   ],
   "source": [
    "random.uniform(-90, 90)"
   ]
  },
  {
   "cell_type": "code",
   "execution_count": 26,
   "id": "c6e6b677-b246-4071-948b-b0207c23d1db",
   "metadata": {},
   "outputs": [],
   "source": [
    "#import the numpy module\n",
    "import numpy as np"
   ]
  },
  {
   "cell_type": "code",
   "execution_count": 27,
   "id": "b251f6a7-c8da-444c-a0b3-3bae27f225ae",
   "metadata": {},
   "outputs": [
    {
     "data": {
      "text/plain": [
       "43.27625335059449"
      ]
     },
     "execution_count": 27,
     "metadata": {},
     "output_type": "execute_result"
    }
   ],
   "source": [
    "np.random.uniform(-90.000, 90.000)"
   ]
  },
  {
   "cell_type": "code",
   "execution_count": 31,
   "id": "7b7d2a3d-e792-402e-a4b3-c767ab246344",
   "metadata": {},
   "outputs": [
    {
     "data": {
      "text/plain": [
       "array([ -3.64162667,  79.3205911 , -25.41889557, -72.90600434,\n",
       "       -22.98956147,   7.31895183, -19.49305828,  71.25891083,\n",
       "       -78.50569308,  78.92835818,  64.84041504, -74.49235134,\n",
       "       -81.6300572 , -76.32412031, -24.7365424 , -20.16486609,\n",
       "        10.7272696 ,  50.70651122,  80.37952846,  51.50157848,\n",
       "         8.15203226, -50.29624614, -12.35617382, -51.70916782,\n",
       "        50.79130881, -42.44193636, -79.84720499,  45.25357949,\n",
       "        12.73206772,  14.24515602,  47.7212336 , -63.90280678,\n",
       "       -85.99455687,   5.99676719,  88.70622139,  85.23184251,\n",
       "       -15.05160747, -61.44155348,  71.25062509, -57.54904291,\n",
       "        27.25318575, -72.22123319, -13.21752598, -36.81329309,\n",
       "        29.93160822, -70.79827081, -11.06551915,  89.0246936 ,\n",
       "       -14.16101224, -69.66366004])"
      ]
     },
     "execution_count": 31,
     "metadata": {},
     "output_type": "execute_result"
    }
   ],
   "source": [
    "np.random.uniform(-90.000, 90.000, size=50)"
   ]
  },
  {
   "cell_type": "code",
   "execution_count": 32,
   "id": "9f81d2bd-6d2f-4275-a32b-3533eecfadb6",
   "metadata": {},
   "outputs": [
    {
     "name": "stdout",
     "output_type": "stream",
     "text": [
      "40.8 µs ± 4.75 µs per loop (mean ± std. dev. of 7 runs, 10000 loops each)\n"
     ]
    }
   ],
   "source": [
    "%timeit np.random.uniform(-90.000, 90.000, size=1500)"
   ]
  },
  {
   "cell_type": "code",
   "execution_count": 36,
   "id": "34b0085a-e995-4fde-ac94-09f97709038c",
   "metadata": {},
   "outputs": [
    {
     "name": "stdout",
     "output_type": "stream",
     "text": [
      "4.85 ms ± 212 µs per loop (mean ± std. dev. of 7 runs, 100 loops each)\n"
     ]
    }
   ],
   "source": [
    "def latitudes(size):\n",
    "    latitudes = []\n",
    "    x = 0\n",
    "    while x < (size):\n",
    "        random_lat = random.randint(-90, 90) + random.random()\n",
    "        latitudes.append(random_lat)\n",
    "        x += 1\n",
    "    return latitudes\n",
    "# Call the function with 1500.\n",
    "%timeit latitudes(1500)"
   ]
  },
  {
   "cell_type": "code",
   "execution_count": null,
   "id": "321902f8-268d-4b35-9b87-fd9e9675a236",
   "metadata": {},
   "outputs": [],
   "source": [
    "pip uninstall gmaps\n"
   ]
  },
  {
   "cell_type": "code",
   "execution_count": null,
   "id": "957a3bee-65f2-4944-954e-5b50a120425c",
   "metadata": {},
   "outputs": [],
   "source": []
  }
 ],
 "metadata": {
  "kernelspec": {
   "display_name": "Python [conda env:PythonData] *",
   "language": "python",
   "name": "conda-env-PythonData-py"
  },
  "language_info": {
   "codemirror_mode": {
    "name": "ipython",
    "version": 3
   },
   "file_extension": ".py",
   "mimetype": "text/x-python",
   "name": "python",
   "nbconvert_exporter": "python",
   "pygments_lexer": "ipython3",
   "version": "3.7.11"
  }
 },
 "nbformat": 4,
 "nbformat_minor": 5
}
